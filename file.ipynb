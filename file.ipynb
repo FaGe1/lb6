{
 "cells": [
  {
   "cell_type": "code",
   "execution_count": 16,
   "metadata": {},
   "outputs": [
    {
     "ename": "ValueError",
     "evalue": "invalid literal for int() with base 10: '90.9'",
     "output_type": "error",
     "traceback": [
      "\u001b[1;31m---------------------------------------------------------------------------\u001b[0m",
      "\u001b[1;31mValueError\u001b[0m                                Traceback (most recent call last)",
      "Cell \u001b[1;32mIn [16], line 3\u001b[0m\n\u001b[0;32m      1\u001b[0m \u001b[39mimport\u001b[39;00m \u001b[39mmath\u001b[39;00m\n\u001b[0;32m      2\u001b[0m x\u001b[39m=\u001b[39m\u001b[39mint\u001b[39m(\u001b[39minput\u001b[39m())\n\u001b[1;32m----> 3\u001b[0m a\u001b[39m=\u001b[39m\u001b[39mint\u001b[39;49m(\u001b[39minput\u001b[39;49m())\n\u001b[0;32m      4\u001b[0m less \u001b[39m=\u001b[39m ((\u001b[39m4\u001b[39m\u001b[39m*\u001b[39mx)\u001b[39m+\u001b[39m(math\u001b[39m.\u001b[39msqrt(\u001b[39mabs\u001b[39m(x))))\n\u001b[0;32m      5\u001b[0m bigger\u001b[39m=\u001b[39m(((x\u001b[39m*\u001b[39m\u001b[39m*\u001b[39m\u001b[39m3\u001b[39m)\u001b[39m/\u001b[39m\u001b[39m3\u001b[39m)\u001b[39m+\u001b[39m(a\u001b[39m*\u001b[39m(x\u001b[39m*\u001b[39m\u001b[39m*\u001b[39m\u001b[39m2\u001b[39m))\u001b[39m-\u001b[39m(math\u001b[39m.\u001b[39mcos(x)\u001b[39m*\u001b[39m\u001b[39m*\u001b[39m\u001b[39m2\u001b[39m)\u001b[39m+\u001b[39m((math\u001b[39m.\u001b[39mpow((a\u001b[39m*\u001b[39mx), \u001b[39m1\u001b[39m\u001b[39m/\u001b[39m\u001b[39m3\u001b[39m))\u001b[39m/\u001b[39m(\u001b[39m3\u001b[39m\u001b[39m*\u001b[39ma)))\n",
      "\u001b[1;31mValueError\u001b[0m: invalid literal for int() with base 10: '90.9'"
     ]
    }
   ],
   "source": [
    "import math\n",
    "x=int(input())\n",
    "a=int(input())\n",
    "less = ((4*x)+(math.sqrt(abs(x))))\n",
    "bigger=(((x**3)/3)+(a*(x**2))-(math.cos(x)**2)+((math.pow((a*x), 1/3))/(3*a)))\n",
    "y = less if x<0 else bigger\n",
    "print(f'значение ={y}')\n",
    "first = ((math.log(x)**2)+(y**2)+(math.sin(y)))\n",
    "second = (((math.log(x)-y)**2)+math.cos(y))\n",
    "thirst = (((y-math.log(x))**2)+math.tan(y))\n",
    "if x-y==0:\n",
    "    z = first\n",
    "elif x-y>0:\n",
    "    z=second\n",
    "elif x-y<0:\n",
    "    z=thirst\n",
    "else:\n",
    "    print(f'error')\n",
    "\n",
    "print(f'Итоговое значение {z}')\n",
    "\n",
    "\n",
    "\n"
   ]
  },
  {
   "cell_type": "markdown",
   "metadata": {},
   "source": [
    "$$\\begin{eqnarray}\n",
    "x' &=& &x \\sin\\phi &+& z \\cos\\phi \\\\\n",
    "z' &=& - &x \\cos\\phi &+& z \\sin\\phi \\\\\n",
    "\\end{eqnarray}$$"
   ]
  },
  {
   "cell_type": "markdown",
   "metadata": {},
   "source": [
    "1.&emsp;Initialize model with a constant value $$f_{0}(x) = \\textrm{arg min}_{\\gamma} \\sum \\limits _{i=1} ^{N} L(y_{i}, \\gamma)$$"
   ]
  },
  {
   "cell_type": "markdown",
   "metadata": {},
   "source": [
    "&&z = f_(x^2) \\sum\\ y^2 + \\sin\\y "
   ]
  }
 ],
 "metadata": {
  "kernelspec": {
   "display_name": "Python 3.10.8 64-bit",
   "language": "python",
   "name": "python3"
  },
  "language_info": {
   "codemirror_mode": {
    "name": "ipython",
    "version": 3
   },
   "file_extension": ".py",
   "mimetype": "text/x-python",
   "name": "python",
   "nbconvert_exporter": "python",
   "pygments_lexer": "ipython3",
   "version": "3.10.8"
  },
  "orig_nbformat": 4,
  "vscode": {
   "interpreter": {
    "hash": "25e37e4d57fae42769f871018383e8f9693d9b32bea07cd56943a6ff8a3fc7f7"
   }
  }
 },
 "nbformat": 4,
 "nbformat_minor": 2
}
